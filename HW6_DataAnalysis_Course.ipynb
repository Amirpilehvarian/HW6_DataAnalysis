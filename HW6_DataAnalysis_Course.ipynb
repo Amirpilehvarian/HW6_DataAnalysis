{
 "cells": [
  {
   "cell_type": "markdown",
   "id": "213452ab",
   "metadata": {},
   "source": [
    "# Problem 1"
   ]
  },
  {
   "cell_type": "markdown",
   "id": "5fab8822",
   "metadata": {},
   "source": [
    "Suppose we have a floor made of parallel strips of wood, each of the same width. If we drop a needle on the floor, what is the probability that the needle will land on a line between two strips?"
   ]
  },
  {
   "cell_type": "code",
   "execution_count": null,
   "id": "3eee943e",
   "metadata": {},
   "outputs": [],
   "source": [
    "#derive the probability of finding needle on a line between two strips"
   ]
  },
  {
   "cell_type": "markdown",
   "id": "fc669fdc",
   "metadata": {},
   "source": [
    "simulate and find Pi value using 100,1000,10000,100000 random needles and see if it how it converge."
   ]
  },
  {
   "cell_type": "code",
   "execution_count": 1,
   "id": "a12ed25e",
   "metadata": {},
   "outputs": [],
   "source": [
    "#code here"
   ]
  },
  {
   "cell_type": "markdown",
   "id": "d4f2f380",
   "metadata": {},
   "source": [
    "bouns point: show this process with animation "
   ]
  },
  {
   "cell_type": "code",
   "execution_count": null,
   "id": "91b02386",
   "metadata": {},
   "outputs": [],
   "source": [
    "#code here"
   ]
  },
  {
   "cell_type": "markdown",
   "id": "0aaddbf7",
   "metadata": {},
   "source": [
    "# Problem 2"
   ]
  },
  {
   "cell_type": "markdown",
   "id": "be1b1931",
   "metadata": {},
   "source": [
    "Let us compare the performance of the Monte Carlo integration to the regular midpoint method. Consider the integral:\n",
    "<center>\n",
    "    <br>$ \\int^1 _0{dx \\frac{3}{2} (1-x^2) } $</br>\n",
    "</center>\n",
    "<br></br>\n",
    "Calculate the integral using:\n",
    "<br></br>\n",
    "a) The midpoint method, i.e. divide the integration range into N equal\n",
    "intervals and evaluate the function at the midpoints of the intervals. Give\n",
    "the answers (at least) for N = 10, 100, 1000, 10000.\n",
    "<br></br>\n",
    "b)Standard Monte Carlo integration, evaluating the function using the same\n",
    "number of random points as in part a.\n",
    "<br></br>\n",
    "Compare the convergence of the methods towards the correct answer.                                   \n",
    "now consider the integral in d-dimensional unit hypercube, with \n",
    " $ \\int{f(\\overrightarrow{x}) = \\Pi_1^d \\frac{3}{2} (1-x_i ^2)} $ with $d = 10$. In this case the\n",
    "midpoint method is evaluated at the center of a d-dim. hypercubes.)\n"
   ]
  },
  {
   "cell_type": "code",
   "execution_count": null,
   "id": "4abde17c",
   "metadata": {},
   "outputs": [],
   "source": [
    "#code here"
   ]
  },
  {
   "cell_type": "markdown",
   "id": "45e81c3b",
   "metadata": {},
   "source": [
    "# Problem 3"
   ]
  },
  {
   "cell_type": "markdown",
   "id": "aad48062",
   "metadata": {},
   "source": [
    "Estimate the volume of a d-dimensional sphere, with (at least) d = 2 and 3,\n",
    "using the hit-and-miss method. Use N = 10000 random vectors"
   ]
  },
  {
   "cell_type": "code",
   "execution_count": null,
   "id": "d16dcff5",
   "metadata": {},
   "outputs": [],
   "source": [
    "#code here"
   ]
  },
  {
   "cell_type": "markdown",
   "id": "b8ce202e",
   "metadata": {},
   "source": [
    "# Problem 4 "
   ]
  },
  {
   "cell_type": "markdown",
   "id": "47d82d4b",
   "metadata": {},
   "source": [
    "Generate uniformly distributed random points on a sphere using spherical coordinates.\n",
    "And then plot the generated poins on a d = 3 dimensional plot.Take notice that using uniform\n",
    "random ditributions for both θ and φ, will not result in uniformly distributed random chosen\n",
    "points on the sphere.\n"
   ]
  },
  {
   "cell_type": "code",
   "execution_count": 2,
   "id": "1160d956",
   "metadata": {},
   "outputs": [],
   "source": [
    "#code here"
   ]
  }
 ],
 "metadata": {
  "hide_input": false,
  "kernelspec": {
   "display_name": "Python 3",
   "language": "python",
   "name": "python3"
  },
  "language_info": {
   "codemirror_mode": {
    "name": "ipython",
    "version": 3
   },
   "file_extension": ".py",
   "mimetype": "text/x-python",
   "name": "python",
   "nbconvert_exporter": "python",
   "pygments_lexer": "ipython3",
   "version": "3.7.0"
  },
  "toc": {
   "base_numbering": 1,
   "nav_menu": {},
   "number_sections": true,
   "sideBar": true,
   "skip_h1_title": false,
   "title_cell": "Table of Contents",
   "title_sidebar": "Contents",
   "toc_cell": false,
   "toc_position": {},
   "toc_section_display": true,
   "toc_window_display": false
  }
 },
 "nbformat": 4,
 "nbformat_minor": 5
}
